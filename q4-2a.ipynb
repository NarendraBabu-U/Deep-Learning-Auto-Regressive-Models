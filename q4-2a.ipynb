{
 "cells": [
  {
   "cell_type": "code",
   "execution_count": 3,
   "metadata": {},
   "outputs": [],
   "source": [
    "import torch\n",
    "import torch.nn as nn\n",
    "from torch import optim\n",
    "import numpy as np\n",
    "import matplotlib.pyplot as plt"
   ]
  },
  {
   "cell_type": "code",
   "execution_count": 22,
   "metadata": {},
   "outputs": [
    {
     "data": {
      "text/plain": [
       "(101, 101)"
      ]
     },
     "execution_count": 22,
     "metadata": {},
     "output_type": "execute_result"
    }
   ],
   "source": [
    "p = 100\n",
    "seq_len = p+1\n",
    "\n",
    "m = np.arange(1,p)\n",
    "seq_1 = np.insert(m, 0, p)\n",
    "seq_1 = np.append(seq_1, p)\n",
    "\n",
    "m = np.arange(1,p)\n",
    "seq_2 = np.insert(m, 0, p+1)\n",
    "seq_2 = np.append(seq_2, p+1)\n",
    "\n",
    "\n",
    "seq_1_oh = np.zeros((p+1,p+1))\n",
    "seq_2_oh = np.zeros((p+1,p+1))\n",
    "\n",
    "for i in range(p+1):\n",
    "    seq_1_oh[i][seq_1[i]-1] = 1\n",
    "    seq_2_oh[i][seq_2[i]-1] = 1\n",
    "    \n",
    "seq_2_oh.shape"
   ]
  }
 ],
 "metadata": {
  "kernelspec": {
   "display_name": "Python 3",
   "language": "python",
   "name": "python3"
  },
  "language_info": {
   "codemirror_mode": {
    "name": "ipython",
    "version": 2
   },
   "file_extension": ".py",
   "mimetype": "text/x-python",
   "name": "python",
   "nbconvert_exporter": "python",
   "pygments_lexer": "ipython2",
   "version": "2.7.12"
  }
 },
 "nbformat": 4,
 "nbformat_minor": 4
}
